{
 "cells": [
  {
   "cell_type": "code",
   "execution_count": 2,
   "id": "34ef44cf-832c-44d2-b941-2e447b61af1e",
   "metadata": {},
   "outputs": [],
   "source": [
    "#import libraries\n",
    "from docx import Document\n",
    "import pandas as pd\n",
    "import matplotlib.pyplot as plt\n",
    "import seaborn as sns\n",
    "import numpy as np\n",
    "import os"
   ]
  },
  {
   "cell_type": "markdown",
   "id": "52f109f6-7563-473d-bdbb-31acc2e923cf",
   "metadata": {},
   "source": [
    "I have a word file with 3 dataset tables.<br>\n",
    "I will be extracting those tables using <code><b>docx</b></code> library."
   ]
  },
  {
   "cell_type": "code",
   "execution_count": 3,
   "id": "e836523e-7f5f-49fe-8dc5-79fb8fa72dce",
   "metadata": {},
   "outputs": [],
   "source": [
    "#load the data,\n",
    "doc = Document('data/pca_datasets.docx')"
   ]
  },
  {
   "cell_type": "code",
   "execution_count": 5,
   "id": "744ae8df-47c9-4c1a-9bff-29765bde56c5",
   "metadata": {},
   "outputs": [],
   "source": [
    "#taking the first table\n",
    "table1 = doc.tables[0]\n",
    "#Dictionary to store each table-column as one entry \n",
    "data_table={}"
   ]
  },
  {
   "cell_type": "code",
   "execution_count": 6,
   "id": "d290ccb9-d95f-4fb1-88fb-c3f7b1de9a60",
   "metadata": {},
   "outputs": [],
   "source": [
    "#Create a dictionary with column-header as key and remaining data in that column as list-of-values.\n",
    "#e.g. {\"Region\":\"['A', 'B',...]\", \"GDP\":\"[5.3, 2.2,...]\"}\n",
    "for column in table1.columns:\n",
    "    col = [cell.text.strip().replace('\\n', ' ') for cell in column.cells]\n",
    "    data_table[col[0]] = col[1:]"
   ]
  },
  {
   "cell_type": "code",
   "execution_count": 8,
   "id": "b39a895c-2e63-4973-9bdf-e4b9d854b33f",
   "metadata": {},
   "outputs": [],
   "source": [
    "df = pd.DataFrame(data_table)"
   ]
  },
  {
   "cell_type": "code",
   "execution_count": 10,
   "id": "534bd787-9d08-496d-adc0-f43c648eb583",
   "metadata": {},
   "outputs": [
    {
     "name": "stdout",
     "output_type": "stream",
     "text": [
      "<class 'pandas.core.frame.DataFrame'>\n",
      "RangeIndex: 10 entries, 0 to 9\n",
      "Data columns (total 6 columns):\n",
      " #   Column                                   Non-Null Count  Dtype \n",
      "---  ------                                   --------------  ----- \n",
      " 0   Region                                   10 non-null     object\n",
      " 1   GDP per capita (USD)                     10 non-null     object\n",
      " 2   Unemployment Rate (%)                    10 non-null     object\n",
      " 3   Education Expenditure per capita (USD)   10 non-null     object\n",
      " 4   Healthcare Expenditure per capita (USD)  10 non-null     object\n",
      " 5   Crime Rate (per 1000 inhabitants)        10 non-null     object\n",
      "dtypes: object(6)\n",
      "memory usage: 612.0+ bytes\n"
     ]
    }
   ],
   "source": [
    "df.info()"
   ]
  },
  {
   "cell_type": "markdown",
   "id": "07260c29-1a88-4522-a5ad-80645fd6dc15",
   "metadata": {},
   "source": [
    "In the code below, the column-names are being simplied for easier handling.  \n",
    "The original & new name are present in table below:\n",
    "<table style=\"border:2px solid black;\">\n",
    "    <tr style=\"border:1px solid black;\">\n",
    "        <th style=\"border:1px solid black;\">Original colname</th>\n",
    "        <th style=\"border:1px solid black;\">New colname</th>\n",
    "    </tr>\n",
    "    <tr style=\"border:1px solid black;\">\n",
    "        <td style=\"border:1px solid black;\">Region</td>\n",
    "        <td style=\"border:1px solid black;\">region</td>\n",
    "    </tr>\n",
    "    <tr style=\"border:1px solid black;\">\n",
    "        <td style=\"border:1px solid black;\">GDP per capita (USD)</td>\n",
    "        <td style=\"border:1px solid black;\">gdp</td>\n",
    "    </tr>\n",
    "    <tr style=\"border:1px solid black;\">\n",
    "        <td style=\"border:1px solid black;\">Unemployment Rate(%)</td>\n",
    "        <td style=\"border:1px solid black;\">umemploy_rate</td>\n",
    "    </tr>\n",
    "    <tr style=\"border:1px solid black;\">\n",
    "        <td style=\"border:1px solid black;\">Education Expenditure per capita (USD)</td>\n",
    "        <td style=\"border:1px solid black;\">ed_expend</td>\n",
    "    </tr>\n",
    "    <tr style=\"border:1px solid black;\">\n",
    "        <td style=\"border:1px solid black;\">Healthcare Expenditure per capita (USD)</td>\n",
    "        <td style=\"border:1px solid black;\">health_expend</td>\n",
    "    </tr>\n",
    "    <tr style=\"border:1px solid black;\">\n",
    "        <td style=\"border:1px solid black;\">Crime Rate (per 1000 inhabitants)</td>\n",
    "        <td style=\"border:1px solid black;\">crime_rate</td>\n",
    "    </tr>\n",
    "</table>"
   ]
  },
  {
   "cell_type": "code",
   "execution_count": 14,
   "id": "03abea94-6da6-4065-a4ed-117ca1e9f822",
   "metadata": {},
   "outputs": [],
   "source": [
    "#rename columns\n",
    "df.rename(columns={\"Region\":\"region\", \"GDP per capita (USD)\":\"gdp\", \n",
    "                   \"Unemployment Rate (%)\":\"umemploy_rate\", \n",
    "                   \"Education Expenditure per capita (USD)\":\"ed_expend\",\n",
    "                  \"Healthcare Expenditure per capita (USD)\":\"health_expend\",\n",
    "                  \"Crime Rate (per 1000 inhabitants)\":\"crime_rate\"},\n",
    "         inplace=True)"
   ]
  },
  {
   "cell_type": "code",
   "execution_count": 18,
   "id": "0cabc3de-d5df-439d-a745-ddf91fac4588",
   "metadata": {},
   "outputs": [
    {
     "data": {
      "text/html": [
       "<div>\n",
       "<style scoped>\n",
       "    .dataframe tbody tr th:only-of-type {\n",
       "        vertical-align: middle;\n",
       "    }\n",
       "\n",
       "    .dataframe tbody tr th {\n",
       "        vertical-align: top;\n",
       "    }\n",
       "\n",
       "    .dataframe thead th {\n",
       "        text-align: right;\n",
       "    }\n",
       "</style>\n",
       "<table border=\"1\" class=\"dataframe\">\n",
       "  <thead>\n",
       "    <tr style=\"text-align: right;\">\n",
       "      <th></th>\n",
       "      <th>region</th>\n",
       "      <th>gdp</th>\n",
       "      <th>umemploy_rate</th>\n",
       "      <th>ed_expend</th>\n",
       "      <th>health_expend</th>\n",
       "      <th>crime_rate</th>\n",
       "    </tr>\n",
       "  </thead>\n",
       "  <tbody>\n",
       "    <tr>\n",
       "      <th>0</th>\n",
       "      <td>A</td>\n",
       "      <td>25000</td>\n",
       "      <td>5</td>\n",
       "      <td>1500</td>\n",
       "      <td>2000</td>\n",
       "      <td>10</td>\n",
       "    </tr>\n",
       "    <tr>\n",
       "      <th>1</th>\n",
       "      <td>B</td>\n",
       "      <td>22000</td>\n",
       "      <td>7</td>\n",
       "      <td>1200</td>\n",
       "      <td>1800</td>\n",
       "      <td>15</td>\n",
       "    </tr>\n",
       "    <tr>\n",
       "      <th>2</th>\n",
       "      <td>C</td>\n",
       "      <td>28000</td>\n",
       "      <td>4</td>\n",
       "      <td>1800</td>\n",
       "      <td>2200</td>\n",
       "      <td>8</td>\n",
       "    </tr>\n",
       "    <tr>\n",
       "      <th>3</th>\n",
       "      <td>D</td>\n",
       "      <td>20000</td>\n",
       "      <td>9</td>\n",
       "      <td>1000</td>\n",
       "      <td>1500</td>\n",
       "      <td>20</td>\n",
       "    </tr>\n",
       "    <tr>\n",
       "      <th>4</th>\n",
       "      <td>E</td>\n",
       "      <td>30000</td>\n",
       "      <td>3</td>\n",
       "      <td>2000</td>\n",
       "      <td>2500</td>\n",
       "      <td>5</td>\n",
       "    </tr>\n",
       "    <tr>\n",
       "      <th>5</th>\n",
       "      <td>F</td>\n",
       "      <td>26000</td>\n",
       "      <td>6</td>\n",
       "      <td>1600</td>\n",
       "      <td>2100</td>\n",
       "      <td>12</td>\n",
       "    </tr>\n",
       "    <tr>\n",
       "      <th>6</th>\n",
       "      <td>G</td>\n",
       "      <td>24000</td>\n",
       "      <td>8</td>\n",
       "      <td>1300</td>\n",
       "      <td>1900</td>\n",
       "      <td>18</td>\n",
       "    </tr>\n",
       "    <tr>\n",
       "      <th>7</th>\n",
       "      <td>H</td>\n",
       "      <td>27000</td>\n",
       "      <td>5</td>\n",
       "      <td>1700</td>\n",
       "      <td>2300</td>\n",
       "      <td>9</td>\n",
       "    </tr>\n",
       "    <tr>\n",
       "      <th>8</th>\n",
       "      <td>I</td>\n",
       "      <td>23000</td>\n",
       "      <td>4</td>\n",
       "      <td>1400</td>\n",
       "      <td>1700</td>\n",
       "      <td>14</td>\n",
       "    </tr>\n",
       "    <tr>\n",
       "      <th>9</th>\n",
       "      <td>J</td>\n",
       "      <td>29000</td>\n",
       "      <td>2</td>\n",
       "      <td>1900</td>\n",
       "      <td>2400</td>\n",
       "      <td>7</td>\n",
       "    </tr>\n",
       "  </tbody>\n",
       "</table>\n",
       "</div>"
      ],
      "text/plain": [
       "  region    gdp umemploy_rate ed_expend health_expend crime_rate\n",
       "0      A  25000             5      1500          2000         10\n",
       "1      B  22000             7      1200          1800         15\n",
       "2      C  28000             4      1800          2200          8\n",
       "3      D  20000             9      1000          1500         20\n",
       "4      E  30000             3      2000          2500          5\n",
       "5      F  26000             6      1600          2100         12\n",
       "6      G  24000             8      1300          1900         18\n",
       "7      H  27000             5      1700          2300          9\n",
       "8      I  23000             4      1400          1700         14\n",
       "9      J  29000             2      1900          2400          7"
      ]
     },
     "execution_count": 18,
     "metadata": {},
     "output_type": "execute_result"
    }
   ],
   "source": [
    "#View the dataframe\n",
    "df"
   ]
  },
  {
   "cell_type": "code",
   "execution_count": null,
   "id": "5e2331d0-d32f-4c0f-b89e-185326758e4f",
   "metadata": {},
   "outputs": [],
   "source": []
  }
 ],
 "metadata": {
  "kernelspec": {
   "display_name": "Python 3 (ipykernel)",
   "language": "python",
   "name": "python3"
  },
  "language_info": {
   "codemirror_mode": {
    "name": "ipython",
    "version": 3
   },
   "file_extension": ".py",
   "mimetype": "text/x-python",
   "name": "python",
   "nbconvert_exporter": "python",
   "pygments_lexer": "ipython3",
   "version": "3.11.8"
  }
 },
 "nbformat": 4,
 "nbformat_minor": 5
}
